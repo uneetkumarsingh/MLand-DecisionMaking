{
  "cells": [
    {
      "cell_type": "markdown",
      "metadata": {
        "id": "42GtpCX7gHdv"
      },
      "source": [
        "### Loading the Data and some observations"
      ]
    },
    {
      "cell_type": "code",
      "execution_count": 1,
      "metadata": {
        "colab": {
          "base_uri": "https://localhost:8080/"
        },
        "id": "CPHY4aYBSMhJ",
        "outputId": "26045a00-3921-4e50-86e0-2981a48dc1b6"
      },
      "outputs": [
        {
          "output_type": "stream",
          "name": "stdout",
          "text": [
            "Mounted at /content/drive\n"
          ]
        }
      ],
      "source": [
        "from google.colab import drive\n",
        "drive.mount('/content/drive')"
      ]
    },
    {
      "cell_type": "code",
      "execution_count": 3,
      "metadata": {
        "id": "4SG5kmVVHbDt"
      },
      "outputs": [],
      "source": [
        "!unzip -qq /content/drive/MyDrive/Term_4/MLTMBD/cxr_plaksha_assignment_qure.zip"
      ]
    },
    {
      "cell_type": "code",
      "execution_count": 4,
      "metadata": {
        "colab": {
          "base_uri": "https://localhost:8080/"
        },
        "id": "jxCvhL4f9s4U",
        "outputId": "9b2c156c-efc9-415d-fba7-bd2b53d1ffae"
      },
      "outputs": [
        {
          "output_type": "stream",
          "name": "stdout",
          "text": [
            "20000\n"
          ]
        }
      ],
      "source": [
        "!ls /content/cxr_plaksha_assignment_qure | wc -l"
      ]
    },
    {
      "cell_type": "markdown",
      "metadata": {
        "id": "fXGQiASIjQdO"
      },
      "source": [
        "**Some Observations about Data:**\n",
        "\n",
        "1.Data is unbalanced but skewness is in acceptable limit. There are 26.67% xrays for consolidated tissue.\n",
        "\n",
        "2.There are some duplicates that have been removed in the init function of cls_dataset class. \n",
        "\n"
      ]
    },
    {
      "cell_type": "markdown",
      "metadata": {
        "id": "EeT7iW_GhR19"
      },
      "source": [
        "## Implementing a torch dataset and a dataloader(iterator on the dataset)."
      ]
    },
    {
      "cell_type": "code",
      "execution_count": 5,
      "metadata": {
        "id": "sEazCtUOW6nk"
      },
      "outputs": [],
      "source": [
        "import pandas as pd\n",
        "import os\n",
        "import cv2\n",
        "import matplotlib.pyplot as plt\n",
        "import torch\n",
        "import torch.utils.data as data\n",
        "from torch.utils.data import Dataset\n",
        "from torchvision.transforms import ToTensor"
      ]
    },
    {
      "cell_type": "code",
      "execution_count": 6,
      "metadata": {
        "id": "l4n29qUeW6np"
      },
      "outputs": [],
      "source": [
        "# A helper function to read png images using cv2.\n",
        "def read_image_from_path(path):\n",
        "    try:\n",
        "        img = cv2.imread(path, 0)\n",
        "        return cv2.resize(img, (64, 64)) #cv2.imread(path, flag) flag = 0 f0r grayscale\n",
        "    except Exception as e:\n",
        "        print(f\"error in fpath {path}\")"
      ]
    },
    {
      "cell_type": "markdown",
      "metadata": {
        "id": "GwA2RBJde86a"
      },
      "source": [
        "A basic implementation of a torch dataset. "
      ]
    },
    {
      "cell_type": "code",
      "execution_count": 7,
      "metadata": {
        "id": "84-P-78NW6np"
      },
      "outputs": [],
      "source": [
        "class cls_dataset(Dataset):\n",
        "    \"\"\"A torch classification dataset class which returns each item in the form of dict consisting of keys idx, input, target.\n",
        "    Transforms are applied on input images.\n",
        "    \"\"\"\n",
        "\n",
        "    def __init__(self, images_path, ground_truth_path):\n",
        "        self.images_path = images_path\n",
        "        self.gt_df = pd.read_csv(ground_truth_path, \\\n",
        "                                 usecols=[\"filename\", \"consolidation\"]).\\\n",
        "                                 drop_duplicates(keep=\"first\").\\\n",
        "                                 set_index(\"filename\")\n",
        "        self.transforms = ToTensor()\n",
        "\n",
        "    def __len__(self):\n",
        "        return len(self.gt_df.index)\n",
        "\n",
        "    def __getitem__(self, index):\n",
        "\n",
        "        idx = self.gt_df.index[index]\n",
        "\n",
        "        input = self._get_input(idx)\n",
        "        input = self.transforms(input)\n",
        "\n",
        "        targets = self._get_target(idx)\n",
        "\n",
        "        return {\"idx\": idx, \"input\": input, \"target\": targets}\n",
        "\n",
        "    def _get_input(self, idx):\n",
        "        filepath = os.path.join(self.images_path, str(idx) + \".png\")\n",
        "        return read_image_from_path(filepath)\n",
        "\n",
        "    def _get_target(self, idx):\n",
        "        return self.gt_df.loc[idx, \"consolidation\"]"
      ]
    },
    {
      "cell_type": "markdown",
      "metadata": {
        "id": "n92oSfmdfz0X"
      },
      "source": [
        "### Preview the read data"
      ]
    },
    {
      "cell_type": "code",
      "execution_count": 9,
      "metadata": {
        "colab": {
          "base_uri": "https://localhost:8080/",
          "height": 1000
        },
        "id": "bv1Dw9kBW6nr",
        "outputId": "52c0372c-77d2-4125-957c-53330c30ba2d"
      },
      "outputs": [
        {
          "output_type": "stream",
          "name": "stdout",
          "text": [
            "for index 19047 target is 0\n",
            "for index 17924 target is 0\n",
            "for index 11658 target is 0\n",
            "for index 10733 target is 0\n"
          ]
        },
        {
          "output_type": "display_data",
          "data": {
            "image/png": "[encoded data removed]",
            "text/plain": [
              "<Figure size 432x288 with 1 Axes>"
            ]
          },
          "metadata": {
            "needs_background": "light"
          }
        },
        {
          "output_type": "display_data",
          "data": {
            "image/png": "[encoded data removed]",
            "text/plain": [
              "<Figure size 432x288 with 1 Axes>"
            ]
          },
          "metadata": {
            "needs_background": "light"
          }
        },
        {
          "output_type": "display_data",
          "data": {
            "image/png": "[encoded data removed]",
            "text/plain": [
              "<Figure size 432x288 with 1 Axes>"
            ]
          },
          "metadata": {
            "needs_background": "light"
          }
        },
        {
          "output_type": "display_data",
          "data": {
            "image/png": "[encoded data removed]",
            "text/plain": [
              "<Figure size 432x288 with 1 Axes>"
            ]
          },
          "metadata": {
            "needs_background": "light"
          }
        }
      ],
      "source": [
        "#images_path is where extracted images of xrays are\n",
        "images_path = \"/content/cxr_plaksha_assignment_qure\"\n",
        "\n",
        "#this is where ground truth is stored. \n",
        "ground_truth_path = \"/content/drive/MyDrive/Term_4/consolidation_train_gt.csv\"\n",
        "train_ds = cls_dataset(images_path, ground_truth_path)\n",
        "\n",
        "for batch in data.DataLoader(train_ds, batch_size=100):\n",
        "    # print(batch)\n",
        "    for i in range(0,4):\n",
        "        print(f\"for index {batch['idx'][i]} target is {batch['target'][i]}\")\n",
        "        image=torch.squeeze(batch['input'][i])\n",
        "        plt.figure(i)\n",
        "        plt.imshow(image, cmap='gray')\n",
        "    break"
      ]
    },
    {
      "cell_type": "code",
      "execution_count": 13,
      "metadata": {
        "id": "WytKl5Y-5t0O"
      },
      "outputs": [],
      "source": [
        "#Calling the Dataloader API for training Data\n",
        "trainloader = data.DataLoader(train_ds, batch_size=64,\n",
        "                                          shuffle=True, num_workers=4)\n",
        "classes = ('0', '1')"
      ]
    },
    {
      "cell_type": "code",
      "execution_count": 14,
      "metadata": {
        "id": "PMrlEHzgo5ua"
      },
      "outputs": [],
      "source": [
        "import torch.nn as nn\n",
        "import torch.nn.functional as F"
      ]
    },
    {
      "cell_type": "code",
      "execution_count": 15,
      "metadata": {
        "id": "mizq68Fio1ob"
      },
      "outputs": [],
      "source": [
        "class Net(nn.Module):\n",
        "    def __init__(self):\n",
        "        super().__init__()\n",
        "        self.conv1 = nn.Conv2d(1,6,5)\n",
        "        self.pool = nn.MaxPool2d(2, 2)\n",
        "        self.conv2 = nn.Conv2d(6, 16, 5)\n",
        "        self.fc1 = nn.Linear(2704, 120)\n",
        "        self.fc2 = nn.Linear(120, 84)\n",
        "        self.fc3 = nn.Linear(84, 1)\n",
        "\n",
        "    def forward(self, x):\n",
        "        x = self.pool(F.relu(self.conv1(x)))\n",
        "        x = self.pool(F.relu(self.conv2(x)))\n",
        "        x = torch.flatten(x, 1) # flatten all dimensions except batch\n",
        "        x = F.relu(self.fc1(x))\n",
        "        x = F.relu(self.fc2(x))\n",
        "        x = self.fc3(x)\n",
        "        x = F.sigmoid(x)\n",
        "        return x\n",
        "\n",
        "\n",
        "net = Net()"
      ]
    },
    {
      "cell_type": "code",
      "execution_count": 16,
      "metadata": {
        "id": "52_XZtxbpAub"
      },
      "outputs": [],
      "source": [
        "import torch.optim as optim\n",
        "\n",
        "criterion = nn.BCELoss() #BCE Loss since this is a binary claaasificatiob\n",
        "optimizer = optim.SGD(net.parameters(), lr=0.01, momentum=0.9)"
      ]
    },
    {
      "cell_type": "code",
      "execution_count": 17,
      "metadata": {
        "colab": {
          "base_uri": "https://localhost:8080/"
        },
        "id": "ATg9iHbI6lyU",
        "outputId": "12b17eff-6d7d-4bbc-9a21-c30be5e05b67"
      },
      "outputs": [
        {
          "output_type": "stream",
          "name": "stderr",
          "text": [
            "/usr/local/lib/python3.7/dist-packages/ipykernel_launcher.py:14: UserWarning: To copy construct from a tensor, it is recommended to use sourceTensor.clone().detach() or sourceTensor.clone().detach().requires_grad_(True), rather than torch.tensor(sourceTensor).\n",
            "  \n",
            "/usr/local/lib/python3.7/dist-packages/torch/nn/functional.py:1806: UserWarning: nn.functional.sigmoid is deprecated. Use torch.sigmoid instead.\n",
            "  warnings.warn(\"nn.functional.sigmoid is deprecated. Use torch.sigmoid instead.\")\n"
          ]
        },
        {
          "output_type": "stream",
          "name": "stdout",
          "text": [
            "[1,    50] loss: 0.307317\n",
            "[1,   100] loss: 0.288924\n",
            "[1,   150] loss: 0.296169\n",
            "[1,   200] loss: 0.291755\n",
            "[1,   250] loss: 0.285587\n",
            "[2,    50] loss: 0.288242\n",
            "[2,   100] loss: 0.280257\n",
            "[2,   150] loss: 0.280733\n",
            "[2,   200] loss: 0.274788\n",
            "[2,   250] loss: 0.274482\n",
            "[3,    50] loss: 0.270098\n",
            "[3,   100] loss: 0.271939\n",
            "[3,   150] loss: 0.272442\n",
            "[3,   200] loss: 0.271832\n",
            "[3,   250] loss: 0.273818\n",
            "[4,    50] loss: 0.281750\n",
            "[4,   100] loss: 0.270179\n",
            "[4,   150] loss: 0.272243\n",
            "[4,   200] loss: 0.260848\n",
            "[4,   250] loss: 0.268609\n",
            "[5,    50] loss: 0.273905\n",
            "[5,   100] loss: 0.272616\n",
            "[5,   150] loss: 0.266493\n",
            "[5,   200] loss: 0.268247\n",
            "[5,   250] loss: 0.261336\n",
            "[6,    50] loss: 0.263256\n",
            "[6,   100] loss: 0.262200\n",
            "[6,   150] loss: 0.267257\n",
            "[6,   200] loss: 0.272324\n",
            "[6,   250] loss: 0.266967\n",
            "[7,    50] loss: 0.268054\n",
            "[7,   100] loss: 0.261865\n",
            "[7,   150] loss: 0.263273\n",
            "[7,   200] loss: 0.264844\n",
            "[7,   250] loss: 0.263207\n",
            "[8,    50] loss: 0.263414\n",
            "[8,   100] loss: 0.263436\n",
            "[8,   150] loss: 0.257519\n",
            "[8,   200] loss: 0.263734\n",
            "[8,   250] loss: 0.260564\n",
            "[9,    50] loss: 0.264483\n",
            "[9,   100] loss: 0.255183\n",
            "[9,   150] loss: 0.264407\n",
            "[9,   200] loss: 0.258026\n",
            "[9,   250] loss: 0.256966\n",
            "[10,    50] loss: 0.252650\n",
            "[10,   100] loss: 0.253097\n",
            "[10,   150] loss: 0.265599\n",
            "[10,   200] loss: 0.254267\n",
            "[10,   250] loss: 0.253843\n",
            "[11,    50] loss: 0.252650\n",
            "[11,   100] loss: 0.248521\n",
            "[11,   150] loss: 0.244751\n",
            "[11,   200] loss: 0.252247\n",
            "[11,   250] loss: 0.249985\n",
            "[12,    50] loss: 0.247127\n",
            "[12,   100] loss: 0.248530\n",
            "[12,   150] loss: 0.245401\n",
            "[12,   200] loss: 0.242656\n",
            "[12,   250] loss: 0.250065\n",
            "[13,    50] loss: 0.243863\n",
            "[13,   100] loss: 0.241896\n",
            "[13,   150] loss: 0.246147\n",
            "[13,   200] loss: 0.242345\n",
            "[13,   250] loss: 0.236422\n",
            "[14,    50] loss: 0.239766\n",
            "[14,   100] loss: 0.239304\n",
            "[14,   150] loss: 0.244850\n",
            "[14,   200] loss: 0.236194\n",
            "[14,   250] loss: 0.238673\n",
            "[15,    50] loss: 0.229953\n",
            "[15,   100] loss: 0.232730\n",
            "[15,   150] loss: 0.239526\n",
            "[15,   200] loss: 0.243257\n",
            "[15,   250] loss: 0.231789\n",
            "[16,    50] loss: 0.229218\n",
            "[16,   100] loss: 0.235716\n",
            "[16,   150] loss: 0.228465\n",
            "[16,   200] loss: 0.234014\n",
            "[16,   250] loss: 0.235313\n",
            "[17,    50] loss: 0.229276\n",
            "[17,   100] loss: 0.228045\n",
            "[17,   150] loss: 0.225041\n",
            "[17,   200] loss: 0.226608\n",
            "[17,   250] loss: 0.230719\n",
            "[18,    50] loss: 0.223050\n",
            "[18,   100] loss: 0.213900\n",
            "[18,   150] loss: 0.232766\n",
            "[18,   200] loss: 0.224824\n",
            "[18,   250] loss: 0.230714\n",
            "[19,    50] loss: 0.210717\n",
            "[19,   100] loss: 0.212766\n",
            "[19,   150] loss: 0.213727\n",
            "[19,   200] loss: 0.233127\n",
            "[19,   250] loss: 0.226400\n",
            "[20,    50] loss: 0.221173\n",
            "[20,   100] loss: 0.213725\n",
            "[20,   150] loss: 0.209484\n",
            "[20,   200] loss: 0.226903\n",
            "[20,   250] loss: 0.214621\n",
            "[21,    50] loss: 0.208961\n",
            "[21,   100] loss: 0.210097\n",
            "[21,   150] loss: 0.211411\n",
            "[21,   200] loss: 0.214100\n",
            "[21,   250] loss: 0.218482\n",
            "[22,    50] loss: 0.196312\n",
            "[22,   100] loss: 0.209177\n",
            "[22,   150] loss: 0.210106\n",
            "[22,   200] loss: 0.206404\n",
            "[22,   250] loss: 0.211942\n",
            "[23,    50] loss: 0.183996\n",
            "[23,   100] loss: 0.200821\n",
            "[23,   150] loss: 0.199986\n",
            "[23,   200] loss: 0.205618\n",
            "[23,   250] loss: 0.200323\n",
            "[24,    50] loss: 0.185825\n",
            "[24,   100] loss: 0.184426\n",
            "[24,   150] loss: 0.187157\n",
            "[24,   200] loss: 0.196498\n",
            "[24,   250] loss: 0.200446\n",
            "[25,    50] loss: 0.186783\n",
            "[25,   100] loss: 0.174214\n",
            "[25,   150] loss: 0.183898\n",
            "[25,   200] loss: 0.193463\n",
            "[25,   250] loss: 0.185138\n",
            "[26,    50] loss: 0.165024\n",
            "[26,   100] loss: 0.166674\n",
            "[26,   150] loss: 0.175254\n",
            "[26,   200] loss: 0.188167\n",
            "[26,   250] loss: 0.178377\n",
            "[27,    50] loss: 0.169050\n",
            "[27,   100] loss: 0.166185\n",
            "[27,   150] loss: 0.164816\n",
            "[27,   200] loss: 0.165349\n",
            "[27,   250] loss: 0.172110\n",
            "[28,    50] loss: 0.141372\n",
            "[28,   100] loss: 0.160340\n",
            "[28,   150] loss: 0.153769\n",
            "[28,   200] loss: 0.157872\n",
            "[28,   250] loss: 0.168431\n",
            "[29,    50] loss: 0.134432\n",
            "[29,   100] loss: 0.143070\n",
            "[29,   150] loss: 0.150363\n",
            "[29,   200] loss: 0.160149\n",
            "[29,   250] loss: 0.165196\n",
            "[30,    50] loss: 0.139145\n",
            "[30,   100] loss: 0.132615\n",
            "[30,   150] loss: 0.143787\n",
            "[30,   200] loss: 0.134375\n",
            "[30,   250] loss: 0.141468\n",
            "[31,    50] loss: 0.119583\n",
            "[31,   100] loss: 0.128238\n",
            "[31,   150] loss: 0.147100\n",
            "[31,   200] loss: 0.122997\n",
            "[31,   250] loss: 0.138052\n",
            "[32,    50] loss: 0.104184\n",
            "[32,   100] loss: 0.115230\n",
            "[32,   150] loss: 0.104532\n",
            "[32,   200] loss: 0.128132\n",
            "[32,   250] loss: 0.129446\n",
            "[33,    50] loss: 0.101302\n",
            "[33,   100] loss: 0.102011\n",
            "[33,   150] loss: 0.103156\n",
            "[33,   200] loss: 0.113442\n",
            "[33,   250] loss: 0.122033\n",
            "[34,    50] loss: 0.094007\n",
            "[34,   100] loss: 0.088968\n",
            "[34,   150] loss: 0.105997\n",
            "[34,   200] loss: 0.110924\n",
            "[34,   250] loss: 0.127341\n",
            "[35,    50] loss: 0.086737\n",
            "[35,   100] loss: 0.096952\n",
            "[35,   150] loss: 0.091078\n",
            "[35,   200] loss: 0.092919\n",
            "[35,   250] loss: 0.100210\n",
            "[36,    50] loss: 0.081886\n",
            "[36,   100] loss: 0.080278\n",
            "[36,   150] loss: 0.082417\n",
            "[36,   200] loss: 0.083428\n",
            "[36,   250] loss: 0.088608\n",
            "[37,    50] loss: 0.075079\n",
            "[37,   100] loss: 0.068464\n",
            "[37,   150] loss: 0.078834\n",
            "[37,   200] loss: 0.083283\n",
            "[37,   250] loss: 0.084224\n",
            "[38,    50] loss: 0.047963\n",
            "[38,   100] loss: 0.071017\n",
            "[38,   150] loss: 0.059520\n",
            "[38,   200] loss: 0.077494\n",
            "[38,   250] loss: 0.083241\n",
            "[39,    50] loss: 0.058234\n",
            "[39,   100] loss: 0.069232\n",
            "[39,   150] loss: 0.064764\n",
            "[39,   200] loss: 0.056820\n",
            "[39,   250] loss: 0.064027\n",
            "[40,    50] loss: 0.052807\n",
            "[40,   100] loss: 0.042281\n",
            "[40,   150] loss: 0.040828\n",
            "[40,   200] loss: 0.069446\n",
            "[40,   250] loss: 0.079745\n",
            "[41,    50] loss: 0.057006\n",
            "[41,   100] loss: 0.048259\n",
            "[41,   150] loss: 0.042860\n",
            "[41,   200] loss: 0.052259\n",
            "[41,   250] loss: 0.051208\n",
            "[42,    50] loss: 0.041351\n",
            "[42,   100] loss: 0.037411\n",
            "[42,   150] loss: 0.060614\n",
            "[42,   200] loss: 0.058585\n",
            "[42,   250] loss: 0.069311\n",
            "[43,    50] loss: 0.047087\n",
            "[43,   100] loss: 0.042804\n",
            "[43,   150] loss: 0.040134\n",
            "[43,   200] loss: 0.041150\n",
            "[43,   250] loss: 0.050569\n",
            "[44,    50] loss: 0.042377\n",
            "[44,   100] loss: 0.046781\n",
            "[44,   150] loss: 0.043414\n",
            "[44,   200] loss: 0.039551\n",
            "[44,   250] loss: 0.046991\n",
            "[45,    50] loss: 0.041327\n",
            "[45,   100] loss: 0.037375\n",
            "[45,   150] loss: 0.030394\n",
            "[45,   200] loss: 0.030851\n",
            "[45,   250] loss: 0.062717\n",
            "[46,    50] loss: 0.026241\n",
            "[46,   100] loss: 0.027035\n",
            "[46,   150] loss: 0.038548\n",
            "[46,   200] loss: 0.053444\n",
            "[46,   250] loss: 0.044983\n",
            "[47,    50] loss: 0.035140\n",
            "[47,   100] loss: 0.028362\n",
            "[47,   150] loss: 0.020888\n",
            "[47,   200] loss: 0.031828\n",
            "[47,   250] loss: 0.043550\n",
            "[48,    50] loss: 0.026220\n",
            "[48,   100] loss: 0.027431\n",
            "[48,   150] loss: 0.041240\n",
            "[48,   200] loss: 0.025969\n",
            "[48,   250] loss: 0.024870\n",
            "[49,    50] loss: 0.031330\n",
            "[49,   100] loss: 0.027549\n",
            "[49,   150] loss: 0.021407\n",
            "[49,   200] loss: 0.027880\n",
            "[49,   250] loss: 0.032019\n",
            "[50,    50] loss: 0.017704\n",
            "[50,   100] loss: 0.016593\n",
            "[50,   150] loss: 0.019736\n",
            "[50,   200] loss: 0.014400\n",
            "[Testing,   230]\n",
            "[Testing,   240]\n",
            "[Testing,   250]\n",
            "Finished Training\n"
          ]
        }
      ],
      "source": [
        "#We will train for whole of the epochs except for the last one. \n",
        "#Last batch of the last epoch is used as test case\n",
        "\n",
        "prob = []\n",
        "g_truth = []\n",
        "epochs = 50\n",
        "for epoch in range(epochs):  # loop over the dataset multiple times\n",
        "\n",
        "    running_loss = 0.0\n",
        "    for i, d in enumerate(trainloader,0):\n",
        "        if(i<225 or epoch<(epochs-1)):\n",
        "            # get the inputs; data is a list of [inputs, labels]\n",
        "            inputs = d[\"input\"]\n",
        "            labels = torch.tensor(d[\"target\"])\n",
        "\n",
        "            # zero the parameter gradients\n",
        "            optimizer.zero_grad()\n",
        "\n",
        "            # forward + backward + optimize\n",
        "            outputs = net(inputs)\n",
        "            labels = labels.unsqueeze(1).float()\n",
        "            loss = criterion(outputs, labels)\n",
        "            loss.backward()\n",
        "            optimizer.step()\n",
        "\n",
        "            # print statistics\n",
        "            running_loss += loss.item()\n",
        "            if i % 50 == 49:    # print every 2000 mini-batches\n",
        "                print(f'[{epoch + 1}, {i + 1:5d}] loss: {running_loss / 100:.6f}')\n",
        "                running_loss = 0.0\n",
        "        else:\n",
        "            #Testing the Model\n",
        "\n",
        "            inputs = d[\"input\"]\n",
        "            labels = d[\"target\"].tolist()\n",
        "            outputs = net(inputs).tolist()\n",
        "            prob+=outputs\n",
        "            g_truth+=labels\n",
        "            if i % 10 == 9:    # print every 10 mini-batches\n",
        "                print(f'[Testing, {i + 1:5d}]')\n",
        "\n",
        "print('Finished Training')"
      ]
    },
    {
      "cell_type": "markdown",
      "metadata": {
        "id": "OtEZF1zTkD9x"
      },
      "source": [
        "# Validating Model and getting AUC"
      ]
    },
    {
      "cell_type": "code",
      "execution_count": 18,
      "metadata": {
        "id": "8m1scdZGLuIX"
      },
      "outputs": [],
      "source": [
        "from sklearn import metrics\n",
        "import matplotlib.pyplot as plt"
      ]
    },
    {
      "cell_type": "code",
      "execution_count": 19,
      "metadata": {
        "colab": {
          "base_uri": "https://localhost:8080/",
          "height": 264
        },
        "id": "qOiedD6uKBA8",
        "outputId": "215ef45b-1e3e-40c8-9de4-584f76f1dce7"
      },
      "outputs": [
        {
          "output_type": "display_data",
          "data": {
            "image/png": "[encoded data removed]",
            "text/plain": [
              "<Figure size 432x288 with 1 Axes>"
            ]
          },
          "metadata": {
            "needs_background": "light"
          }
        }
      ],
      "source": [
        "#Checking the AUC Score of the predictor!\n",
        "\n",
        "fpr, tpr, _ = metrics.roc_curve(g_truth,  prob)\n",
        "auc = metrics.roc_auc_score(g_truth, prob)\n",
        "plt.plot(fpr,tpr,label=\"AUC=\"+str(auc))\n",
        "plt.legend(loc=4)\n",
        "plt.show()\n"
      ]
    },
    {
      "cell_type": "markdown",
      "metadata": {
        "id": "wZA906HHgD2c"
      },
      "source": [
        "# Predicitng for the withheld data(4000 examples)"
      ]
    },
    {
      "cell_type": "code",
      "execution_count": 22,
      "metadata": {
        "id": "6giMdD3wSCFy"
      },
      "outputs": [],
      "source": [
        "#images_path = \"cxr_plaksha_assignment_qure\"\n",
        "train_filename = pd.read_csv(\"/content/drive/MyDrive/Term_4/consolidation_train_gt.csv\").filename\n",
        "#getting series of filenames alreaady covered in training"
      ]
    },
    {
      "cell_type": "code",
      "execution_count": 23,
      "metadata": {
        "colab": {
          "base_uri": "https://localhost:8080/"
        },
        "id": "Y8IIg9_qaO4F",
        "outputId": "8bd4922a-e6e6-42d8-d37e-456ad77430c4"
      },
      "outputs": [
        {
          "output_type": "stream",
          "name": "stderr",
          "text": [
            "/usr/local/lib/python3.7/dist-packages/torch/nn/functional.py:1806: UserWarning: nn.functional.sigmoid is deprecated. Use torch.sigmoid instead.\n",
            "  warnings.warn(\"nn.functional.sigmoid is deprecated. Use torch.sigmoid instead.\")\n"
          ]
        }
      ],
      "source": [
        "#reading all the files from the image repositiory and predicting \n",
        "#for those that were not present in the train data\n",
        "img_id = []#ID of untouched image\n",
        "test_pred = []\n",
        "for f in os.listdir(images_path):\n",
        "  filename = os.path.splitext(f)[0]\n",
        "  if(sum(train_filename.isin([int(filename)]))==0):\n",
        "    img = read_image_from_path(images_path+\"/\"+str(f))\n",
        "    img = ToTensor()(img)\n",
        "    img_id.append(filename)\n",
        "    test_pred+=net(img.reshape(1,1,64,64)).tolist()[0]"
      ]
    },
    {
      "cell_type": "code",
      "execution_count": 24,
      "metadata": {
        "id": "Zxcg34NzgksJ"
      },
      "outputs": [],
      "source": [
        "df_test_pred = pd.DataFrame(zip(img_id, test_pred), columns = [\"filename\", \"confidence_score\"])"
      ]
    },
    {
      "cell_type": "code",
      "execution_count": 25,
      "metadata": {
        "colab": {
          "base_uri": "https://localhost:8080/",
          "height": 232
        },
        "id": "_Hc6QTl7gxIo",
        "outputId": "32f549b6-9f84-4366-d4d2-11eb53860cb9"
      },
      "outputs": [
        {
          "output_type": "execute_result",
          "data": {
            "text/html": [
              "\n",
              "  <div id=\"df-22d7bf45-728d-42e2-b6ca-0c4295b8eb64\">\n",
              "    <div class=\"colab-df-container\">\n",
              "      <div>\n",
              "<style scoped>\n",
              "    .dataframe tbody tr th:only-of-type {\n",
              "        vertical-align: middle;\n",
              "    }\n",
              "\n",
              "    .dataframe tbody tr th {\n",
              "        vertical-align: top;\n",
              "    }\n",
              "\n",
              "    .dataframe thead th {\n",
              "        text-align: right;\n",
              "    }\n",
              "</style>\n",
              "<table border=\"1\" class=\"dataframe\">\n",
              "  <thead>\n",
              "    <tr style=\"text-align: right;\">\n",
              "      <th></th>\n",
              "      <th>confidence_score</th>\n",
              "    </tr>\n",
              "    <tr>\n",
              "      <th>filename</th>\n",
              "      <th></th>\n",
              "    </tr>\n",
              "  </thead>\n",
              "  <tbody>\n",
              "    <tr>\n",
              "      <th>277</th>\n",
              "      <td>7.962353e-01</td>\n",
              "    </tr>\n",
              "    <tr>\n",
              "      <th>13764</th>\n",
              "      <td>9.128760e-07</td>\n",
              "    </tr>\n",
              "    <tr>\n",
              "      <th>12246</th>\n",
              "      <td>4.362410e-04</td>\n",
              "    </tr>\n",
              "    <tr>\n",
              "      <th>10998</th>\n",
              "      <td>1.744897e-12</td>\n",
              "    </tr>\n",
              "    <tr>\n",
              "      <th>14677</th>\n",
              "      <td>1.526777e-07</td>\n",
              "    </tr>\n",
              "  </tbody>\n",
              "</table>\n",
              "</div>\n",
              "      <button class=\"colab-df-convert\" onclick=\"convertToInteractive('df-22d7bf45-728d-42e2-b6ca-0c4295b8eb64')\"\n",
              "              title=\"Convert this dataframe to an interactive table.\"\n",
              "              style=\"display:none;\">\n",
              "        \n",
              "  <svg xmlns=\"http://www.w3.org/2000/svg\" height=\"24px\"viewBox=\"0 0 24 24\"\n",
              "       width=\"24px\">\n",
              "    <path d=\"M0 0h24v24H0V0z\" fill=\"none\"/>\n",
              "    <path d=\"M18.56 5.44l.94 2.06.94-2.06 2.06-.94-2.06-.94-.94-2.06-.94 2.06-2.06.94zm-11 1L8.5 8.5l.94-2.06 2.06-.94-2.06-.94L8.5 2.5l-.94 2.06-2.06.94zm10 10l.94 2.06.94-2.06 2.06-.94-2.06-.94-.94-2.06-.94 2.06-2.06.94z\"/><path d=\"M17.41 7.96l-1.37-1.37c-.4-.4-.92-.59-1.43-.59-.52 0-1.04.2-1.43.59L10.3 9.45l-7.72 7.72c-.78.78-.78 2.05 0 2.83L4 21.41c.39.39.9.59 1.41.59.51 0 1.02-.2 1.41-.59l7.78-7.78 2.81-2.81c.8-.78.8-2.07 0-2.86zM5.41 20L4 18.59l7.72-7.72 1.47 1.35L5.41 20z\"/>\n",
              "  </svg>\n",
              "      </button>\n",
              "      \n",
              "  <style>\n",
              "    .colab-df-container {\n",
              "      display:flex;\n",
              "      flex-wrap:wrap;\n",
              "      gap: 12px;\n",
              "    }\n",
              "\n",
              "    .colab-df-convert {\n",
              "      background-color: #E8F0FE;\n",
              "      border: none;\n",
              "      border-radius: 50%;\n",
              "      cursor: pointer;\n",
              "      display: none;\n",
              "      fill: #1967D2;\n",
              "      height: 32px;\n",
              "      padding: 0 0 0 0;\n",
              "      width: 32px;\n",
              "    }\n",
              "\n",
              "    .colab-df-convert:hover {\n",
              "      background-color: #E2EBFA;\n",
              "      box-shadow: 0px 1px 2px rgba(60, 64, 67, 0.3), 0px 1px 3px 1px rgba(60, 64, 67, 0.15);\n",
              "      fill: #174EA6;\n",
              "    }\n",
              "\n",
              "    [theme=dark] .colab-df-convert {\n",
              "      background-color: #3B4455;\n",
              "      fill: #D2E3FC;\n",
              "    }\n",
              "\n",
              "    [theme=dark] .colab-df-convert:hover {\n",
              "      background-color: #434B5C;\n",
              "      box-shadow: 0px 1px 3px 1px rgba(0, 0, 0, 0.15);\n",
              "      filter: drop-shadow(0px 1px 2px rgba(0, 0, 0, 0.3));\n",
              "      fill: #FFFFFF;\n",
              "    }\n",
              "  </style>\n",
              "\n",
              "      <script>\n",
              "        const buttonEl =\n",
              "          document.querySelector('#df-22d7bf45-728d-42e2-b6ca-0c4295b8eb64 button.colab-df-convert');\n",
              "        buttonEl.style.display =\n",
              "          google.colab.kernel.accessAllowed ? 'block' : 'none';\n",
              "\n",
              "        async function convertToInteractive(key) {\n",
              "          const element = document.querySelector('#df-22d7bf45-728d-42e2-b6ca-0c4295b8eb64');\n",
              "          const dataTable =\n",
              "            await google.colab.kernel.invokeFunction('convertToInteractive',\n",
              "                                                     [key], {});\n",
              "          if (!dataTable) return;\n",
              "\n",
              "          const docLinkHtml = 'Like what you see? Visit the ' +\n",
              "            '<a target=\"_blank\" href=https://colab.research.google.com/notebooks/data_table.ipynb>data table notebook</a>'\n",
              "            + ' to learn more about interactive tables.';\n",
              "          element.innerHTML = '';\n",
              "          dataTable['output_type'] = 'display_data';\n",
              "          await google.colab.output.renderOutput(dataTable, element);\n",
              "          const docLink = document.createElement('div');\n",
              "          docLink.innerHTML = docLinkHtml;\n",
              "          element.appendChild(docLink);\n",
              "        }\n",
              "      </script>\n",
              "    </div>\n",
              "  </div>\n",
              "  "
            ],
            "text/plain": [
              "          confidence_score\n",
              "filename                  \n",
              "277           7.962353e-01\n",
              "13764         9.128760e-07\n",
              "12246         4.362410e-04\n",
              "10998         1.744897e-12\n",
              "14677         1.526777e-07"
            ]
          },
          "metadata": {},
          "execution_count": 25
        }
      ],
      "source": [
        "df_test_pred.set_index(\"filename\", inplace = True)\n",
        "df_test_pred.head()"
      ]
    },
    {
      "cell_type": "code",
      "execution_count": 31,
      "metadata": {
        "id": "adcLDBWXkQkI"
      },
      "outputs": [],
      "source": [
        "df_test_pred.to_csv(\"/content/drive/MyDrive/Term_4/MLTMBD/xray_pred_0.99AUC.csv\")"
      ]
    },
    {
      "cell_type": "code",
      "execution_count": 32,
      "metadata": {
        "id": "b1n3qGsjjGHM"
      },
      "outputs": [],
      "source": [
        "PATH = '/content/drive/MyDrive/Term_4/model_accurate_0.99.pth'\n",
        "torch.save(net.state_dict(), PATH)"
      ]
    }
  ],
  "metadata": {
    "accelerator": "GPU",
    "colab": {
      "collapsed_sections": [],
      "machine_shape": "hm",
      "name": "MLTMBD_xray",
      "provenance": []
    },
    "interpreter": {
      "hash": "31c6ac7030df61d75f7bd8531f9e84cd2b96267015bca213012ac580d5e53a01"
    },
    "kernelspec": {
      "display_name": "Python 3.9.7 64-bit ('cxr_training': conda)",
      "language": "python",
      "name": "python3"
    },
    "language_info": {
      "codemirror_mode": {
        "name": "ipython",
        "version": 3
      },
      "file_extension": ".py",
      "mimetype": "text/x-python",
      "name": "python",
      "nbconvert_exporter": "python",
      "pygments_lexer": "ipython3",
      "version": "3.9.7"
    }
  },
  "nbformat": 4,
  "nbformat_minor": 0
}